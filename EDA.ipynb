{
 "cells": [
  {
   "cell_type": "markdown",
   "metadata": {},
   "source": [
    "# scrape data\n",
    "\n",
    "- title\n",
    "- plot\n",
    "- genre"
   ]
  },
  {
   "cell_type": "code",
   "execution_count": 1,
   "metadata": {},
   "outputs": [],
   "source": [
    "import pandas as pd\n",
    "import functions\n",
    "\n",
    "import nltk\n",
    "from nltk.tokenize import word_tokenize\n",
    "from nltk.corpus import stopwords\n",
    "from nltk.stem import SnowballStemmer\n",
    "from sklearn.feature_extraction.text import TfidfVectorizer\n",
    "from sklearn.metrics.pairwise import cosine_similarity"
   ]
  },
  {
   "cell_type": "code",
   "execution_count": 2,
   "metadata": {},
   "outputs": [
    {
     "data": {
      "text/html": [
       "<div>\n",
       "<style scoped>\n",
       "    .dataframe tbody tr th:only-of-type {\n",
       "        vertical-align: middle;\n",
       "    }\n",
       "\n",
       "    .dataframe tbody tr th {\n",
       "        vertical-align: top;\n",
       "    }\n",
       "\n",
       "    .dataframe thead th {\n",
       "        text-align: right;\n",
       "    }\n",
       "</style>\n",
       "<table border=\"1\" class=\"dataframe\">\n",
       "  <thead>\n",
       "    <tr style=\"text-align: right;\">\n",
       "      <th></th>\n",
       "      <th>Title</th>\n",
       "      <th>Year</th>\n",
       "      <th>Genres</th>\n",
       "      <th>Plots</th>\n",
       "      <th>Processed_feature</th>\n",
       "    </tr>\n",
       "  </thead>\n",
       "  <tbody>\n",
       "    <tr>\n",
       "      <th>0</th>\n",
       "      <td>02:22</td>\n",
       "      <td>2017</td>\n",
       "      <td>Drama,Mystery,Science Fiction,Thriller</td>\n",
       "      <td>A man s life is derailed when an ominous patte...</td>\n",
       "      <td>man life derail omin pattern event repeat exac...</td>\n",
       "    </tr>\n",
       "    <tr>\n",
       "      <th>1</th>\n",
       "      <td>85</td>\n",
       "      <td>2020</td>\n",
       "      <td>Drama,Fantasy</td>\n",
       "      <td>What do you dream of when you re 16 years old ...</td>\n",
       "      <td>what dream year old seasid resort normandi 198...</td>\n",
       "    </tr>\n",
       "    <tr>\n",
       "      <th>2</th>\n",
       "      <td>9</td>\n",
       "      <td>2009</td>\n",
       "      <td>Adventure,Animation,Science Fiction</td>\n",
       "      <td>When 9 first comes to life  he finds himself i...</td>\n",
       "      <td>when first come life find post apocalypt world...</td>\n",
       "    </tr>\n",
       "    <tr>\n",
       "      <th>3</th>\n",
       "      <td>10</td>\n",
       "      <td>1979</td>\n",
       "      <td>Comedy,Romance</td>\n",
       "      <td>The tenth installment in the Fast Saga</td>\n",
       "      <td>the tenth instal fast saga comedi romanc</td>\n",
       "    </tr>\n",
       "    <tr>\n",
       "      <th>4</th>\n",
       "      <td>21</td>\n",
       "      <td>2008</td>\n",
       "      <td>Crime,Drama,Romance,Thriller</td>\n",
       "      <td>An embattled NYPD detective  is thrust into a ...</td>\n",
       "      <td>embattl nypd detect thrust citywid manhunt pai...</td>\n",
       "    </tr>\n",
       "  </tbody>\n",
       "</table>\n",
       "</div>"
      ],
      "text/plain": [
       "   Title  Year                                  Genres  \\\n",
       "0  02:22  2017  Drama,Mystery,Science Fiction,Thriller   \n",
       "1     85  2020                           Drama,Fantasy   \n",
       "2      9  2009     Adventure,Animation,Science Fiction   \n",
       "3     10  1979                          Comedy,Romance   \n",
       "4     21  2008            Crime,Drama,Romance,Thriller   \n",
       "\n",
       "                                               Plots  \\\n",
       "0  A man s life is derailed when an ominous patte...   \n",
       "1  What do you dream of when you re 16 years old ...   \n",
       "2  When 9 first comes to life  he finds himself i...   \n",
       "3            The tenth installment in the Fast Saga    \n",
       "4  An embattled NYPD detective  is thrust into a ...   \n",
       "\n",
       "                                   Processed_feature  \n",
       "0  man life derail omin pattern event repeat exac...  \n",
       "1  what dream year old seasid resort normandi 198...  \n",
       "2  when first come life find post apocalypt world...  \n",
       "3           the tenth instal fast saga comedi romanc  \n",
       "4  embattl nypd detect thrust citywid manhunt pai...  "
      ]
     },
     "execution_count": 2,
     "metadata": {},
     "output_type": "execute_result"
    }
   ],
   "source": [
    "df = pd.read_csv('data/movie_data.csv')\n",
    "df.head()"
   ]
  },
  {
   "cell_type": "code",
   "execution_count": 3,
   "metadata": {},
   "outputs": [
    {
     "data": {
      "text/plain": [
       "(15250, 5)"
      ]
     },
     "execution_count": 3,
     "metadata": {},
     "output_type": "execute_result"
    }
   ],
   "source": [
    "df.shape"
   ]
  },
  {
   "cell_type": "code",
   "execution_count": 4,
   "metadata": {},
   "outputs": [
    {
     "data": {
      "text/plain": [
       "5083.333333333333"
      ]
     },
     "execution_count": 4,
     "metadata": {},
     "output_type": "execute_result"
    }
   ],
   "source": [
    "15250/3"
   ]
  },
  {
   "cell_type": "code",
   "execution_count": 4,
   "metadata": {},
   "outputs": [
    {
     "ename": "AttributeError",
     "evalue": "module 'functions' has no attribute 'get_unique_genres'",
     "output_type": "error",
     "traceback": [
      "\u001b[0;31m---------------------------------------------------------------------------\u001b[0m",
      "\u001b[0;31mAttributeError\u001b[0m                            Traceback (most recent call last)",
      "\u001b[0;32m<ipython-input-4-e601f4a44c33>\u001b[0m in \u001b[0;36m<module>\u001b[0;34m\u001b[0m\n\u001b[0;32m----> 1\u001b[0;31m \u001b[0mx\u001b[0m \u001b[0;34m=\u001b[0m \u001b[0mfunctions\u001b[0m\u001b[0;34m.\u001b[0m\u001b[0mget_unique_genres\u001b[0m\u001b[0;34m(\u001b[0m\u001b[0mdf\u001b[0m\u001b[0;34m,\u001b[0m \u001b[0;34m'Genres'\u001b[0m\u001b[0;34m,\u001b[0m \u001b[0;34m','\u001b[0m\u001b[0;34m)\u001b[0m\u001b[0;34m\u001b[0m\u001b[0;34m\u001b[0m\u001b[0m\n\u001b[0m",
      "\u001b[0;31mAttributeError\u001b[0m: module 'functions' has no attribute 'get_unique_genres'"
     ]
    }
   ],
   "source": [
    "x = functions.get_unique_genres(df, 'Genres', ',')"
   ]
  },
  {
   "cell_type": "code",
   "execution_count": 5,
   "metadata": {
    "scrolled": true
   },
   "outputs": [
    {
     "ename": "NameError",
     "evalue": "name 'x' is not defined",
     "output_type": "error",
     "traceback": [
      "\u001b[0;31m---------------------------------------------------------------------------\u001b[0m",
      "\u001b[0;31mNameError\u001b[0m                                 Traceback (most recent call last)",
      "\u001b[0;32m<ipython-input-5-6fcf9dfbd479>\u001b[0m in \u001b[0;36m<module>\u001b[0;34m\u001b[0m\n\u001b[0;32m----> 1\u001b[0;31m \u001b[0mx\u001b[0m\u001b[0;34m\u001b[0m\u001b[0;34m\u001b[0m\u001b[0m\n\u001b[0m",
      "\u001b[0;31mNameError\u001b[0m: name 'x' is not defined"
     ]
    }
   ],
   "source": [
    "x"
   ]
  },
  {
   "cell_type": "markdown",
   "metadata": {},
   "source": [
    "- remove stop words\n",
    "- remove non english words"
   ]
  },
  {
   "cell_type": "code",
   "execution_count": 6,
   "metadata": {},
   "outputs": [],
   "source": [
    "# import re\n",
    "# new = []\n",
    "# for t in df['Plots']:\n",
    "#     new.append(re.sub('[^a-zA-Z0-9]', ' ', t))"
   ]
  },
  {
   "cell_type": "markdown",
   "metadata": {},
   "source": [
    "- remove symbols\n",
    "- remove names\n",
    "- remove stopwords and one-letter words\n",
    "- stem words"
   ]
  },
  {
   "cell_type": "code",
   "execution_count": 5,
   "metadata": {},
   "outputs": [
    {
     "name": "stdout",
     "output_type": "stream",
     "text": [
      "['i', 'me', 'my', 'myself', 'we', 'our', 'ours', 'ourselves', 'you', \"you're\", \"you've\", \"you'll\", \"you'd\", 'your', 'yours', 'yourself', 'yourselves', 'he', 'him', 'his', 'himself', 'she', \"she's\", 'her', 'hers', 'herself', 'it', \"it's\", 'its', 'itself', 'they', 'them', 'their', 'theirs', 'themselves', 'what', 'which', 'who', 'whom', 'this', 'that', \"that'll\", 'these', 'those', 'am', 'is', 'are', 'was', 'were', 'be', 'been', 'being', 'have', 'has', 'had', 'having', 'do', 'does', 'did', 'doing', 'a', 'an', 'the', 'and', 'but', 'if', 'or', 'because', 'as', 'until', 'while', 'of', 'at', 'by', 'for', 'with', 'about', 'against', 'between', 'into', 'through', 'during', 'before', 'after', 'above', 'below', 'to', 'from', 'up', 'down', 'in', 'out', 'on', 'off', 'over', 'under', 'again', 'further', 'then', 'once', 'here', 'there', 'when', 'where', 'why', 'how', 'all', 'any', 'both', 'each', 'few', 'more', 'most', 'other', 'some', 'such', 'no', 'nor', 'not', 'only', 'own', 'same', 'so', 'than', 'too', 'very', 's', 't', 'can', 'will', 'just', 'don', \"don't\", 'should', \"should've\", 'now', 'd', 'll', 'm', 'o', 're', 've', 'y', 'ain', 'aren', \"aren't\", 'couldn', \"couldn't\", 'didn', \"didn't\", 'doesn', \"doesn't\", 'hadn', \"hadn't\", 'hasn', \"hasn't\", 'haven', \"haven't\", 'isn', \"isn't\", 'ma', 'mightn', \"mightn't\", 'mustn', \"mustn't\", 'needn', \"needn't\", 'shan', \"shan't\", 'shouldn', \"shouldn't\", 'wasn', \"wasn't\", 'weren', \"weren't\", 'won', \"won't\", 'wouldn', \"wouldn't\"]\n"
     ]
    }
   ],
   "source": [
    "print(stopwords.words('english'))"
   ]
  },
  {
   "cell_type": "code",
   "execution_count": 6,
   "metadata": {},
   "outputs": [],
   "source": [
    "snow = SnowballStemmer(ignore_stopwords=True, language='english')\n",
    "stopwords= stopwords.words('english')"
   ]
  },
  {
   "cell_type": "code",
   "execution_count": 9,
   "metadata": {},
   "outputs": [],
   "source": [
    "# def process_text(texts): \n",
    "#     final_text_list = []\n",
    "#     for sent in texts:\n",
    "#         # Check if the sentence is a missing value\n",
    "#         if isinstance(sent, str) == False:\n",
    "#             sent = \"\"\n",
    "            \n",
    "#         filtered_sentence = []\n",
    "        \n",
    "#         for w in word_tokenize(sent):\n",
    "#             # Check if it is not numeric and its length >2 and not in stop words\n",
    "#             if(not w.isnumeric()) and (len(w) > 2) and (w not in stopwords):  \n",
    "#                 # Stem and add to filtered list\n",
    "#                 filtered_sentence.append(snow.stem(w))\n",
    "#         final_string = \" \".join(filtered_sentence) #final string of cleaned words\n",
    " \n",
    "#         final_text_list.append(final_string)\n",
    "        \n",
    "#     return final_text_list"
   ]
  },
  {
   "cell_type": "code",
   "execution_count": 10,
   "metadata": {},
   "outputs": [],
   "source": [
    "#df['Feature'] = df['Plots'] + df['Genres']"
   ]
  },
  {
   "cell_type": "code",
   "execution_count": 12,
   "metadata": {},
   "outputs": [],
   "source": [
    "#df['Processed_feature'] = process_text(df['Feature'])"
   ]
  },
  {
   "cell_type": "code",
   "execution_count": 7,
   "metadata": {},
   "outputs": [
    {
     "data": {
      "text/plain": [
       "Index(['Title', 'Year', 'Genres', 'Plots', 'Processed_feature'], dtype='object')"
      ]
     },
     "execution_count": 7,
     "metadata": {},
     "output_type": "execute_result"
    }
   ],
   "source": [
    "df.columns"
   ]
  },
  {
   "cell_type": "code",
   "execution_count": 23,
   "metadata": {},
   "outputs": [
    {
     "name": "stdout",
     "output_type": "stream",
     "text": [
      "Finished in 0.018666666666666668 seconds\n"
     ]
    }
   ],
   "source": [
    "start = time.perf_counter()\n",
    "# Instantiate the vectorizer object and transform the plot column\n",
    "vectorizer = TfidfVectorizer(max_df=0.7, min_df=2)\n",
    "vectorized_data = vectorizer.fit_transform(df['Processed_feature']) \n",
    "\n",
    "# Create Dataframe from TF-IDFarray\n",
    "tfidf_df = pd.DataFrame(vectorized_data.toarray(), columns=vectorizer.get_feature_names())\n",
    "\n",
    "# Assign the movie titles to the index and inspect\n",
    "tfidf_df.index = df['Title']\n",
    "\n",
    "finish = time.perf_counter()\n",
    "print(f'Finished in {round(finish-start,2)/60} seconds')"
   ]
  },
  {
   "cell_type": "code",
   "execution_count": 15,
   "metadata": {},
   "outputs": [
    {
     "data": {
      "text/html": [
       "<div>\n",
       "<style scoped>\n",
       "    .dataframe tbody tr th:only-of-type {\n",
       "        vertical-align: middle;\n",
       "    }\n",
       "\n",
       "    .dataframe tbody tr th {\n",
       "        vertical-align: top;\n",
       "    }\n",
       "\n",
       "    .dataframe thead th {\n",
       "        text-align: right;\n",
       "    }\n",
       "</style>\n",
       "<table border=\"1\" class=\"dataframe\">\n",
       "  <thead>\n",
       "    <tr style=\"text-align: right;\">\n",
       "      <th></th>\n",
       "      <th>100th</th>\n",
       "      <th>10th</th>\n",
       "      <th>11th</th>\n",
       "      <th>12th</th>\n",
       "      <th>13th</th>\n",
       "      <th>14th</th>\n",
       "      <th>150th</th>\n",
       "      <th>1590s</th>\n",
       "      <th>15th</th>\n",
       "      <th>1600s</th>\n",
       "      <th>...</th>\n",
       "      <th>zombi</th>\n",
       "      <th>zone</th>\n",
       "      <th>zoo</th>\n",
       "      <th>zooey</th>\n",
       "      <th>zookeep</th>\n",
       "      <th>zoologist</th>\n",
       "      <th>zoom</th>\n",
       "      <th>zord</th>\n",
       "      <th>zoya</th>\n",
       "      <th>zquez</th>\n",
       "    </tr>\n",
       "    <tr>\n",
       "      <th>Title</th>\n",
       "      <th></th>\n",
       "      <th></th>\n",
       "      <th></th>\n",
       "      <th></th>\n",
       "      <th></th>\n",
       "      <th></th>\n",
       "      <th></th>\n",
       "      <th></th>\n",
       "      <th></th>\n",
       "      <th></th>\n",
       "      <th></th>\n",
       "      <th></th>\n",
       "      <th></th>\n",
       "      <th></th>\n",
       "      <th></th>\n",
       "      <th></th>\n",
       "      <th></th>\n",
       "      <th></th>\n",
       "      <th></th>\n",
       "      <th></th>\n",
       "      <th></th>\n",
       "    </tr>\n",
       "  </thead>\n",
       "  <tbody>\n",
       "    <tr>\n",
       "      <th>02:22</th>\n",
       "      <td>0.0</td>\n",
       "      <td>0.0</td>\n",
       "      <td>0.0</td>\n",
       "      <td>0.0</td>\n",
       "      <td>0.0</td>\n",
       "      <td>0.0</td>\n",
       "      <td>0.0</td>\n",
       "      <td>0.0</td>\n",
       "      <td>0.0</td>\n",
       "      <td>0.0</td>\n",
       "      <td>...</td>\n",
       "      <td>0.0</td>\n",
       "      <td>0.0</td>\n",
       "      <td>0.0</td>\n",
       "      <td>0.0</td>\n",
       "      <td>0.0</td>\n",
       "      <td>0.0</td>\n",
       "      <td>0.0</td>\n",
       "      <td>0.0</td>\n",
       "      <td>0.0</td>\n",
       "      <td>0.0</td>\n",
       "    </tr>\n",
       "    <tr>\n",
       "      <th>85</th>\n",
       "      <td>0.0</td>\n",
       "      <td>0.0</td>\n",
       "      <td>0.0</td>\n",
       "      <td>0.0</td>\n",
       "      <td>0.0</td>\n",
       "      <td>0.0</td>\n",
       "      <td>0.0</td>\n",
       "      <td>0.0</td>\n",
       "      <td>0.0</td>\n",
       "      <td>0.0</td>\n",
       "      <td>...</td>\n",
       "      <td>0.0</td>\n",
       "      <td>0.0</td>\n",
       "      <td>0.0</td>\n",
       "      <td>0.0</td>\n",
       "      <td>0.0</td>\n",
       "      <td>0.0</td>\n",
       "      <td>0.0</td>\n",
       "      <td>0.0</td>\n",
       "      <td>0.0</td>\n",
       "      <td>0.0</td>\n",
       "    </tr>\n",
       "    <tr>\n",
       "      <th>9</th>\n",
       "      <td>0.0</td>\n",
       "      <td>0.0</td>\n",
       "      <td>0.0</td>\n",
       "      <td>0.0</td>\n",
       "      <td>0.0</td>\n",
       "      <td>0.0</td>\n",
       "      <td>0.0</td>\n",
       "      <td>0.0</td>\n",
       "      <td>0.0</td>\n",
       "      <td>0.0</td>\n",
       "      <td>...</td>\n",
       "      <td>0.0</td>\n",
       "      <td>0.0</td>\n",
       "      <td>0.0</td>\n",
       "      <td>0.0</td>\n",
       "      <td>0.0</td>\n",
       "      <td>0.0</td>\n",
       "      <td>0.0</td>\n",
       "      <td>0.0</td>\n",
       "      <td>0.0</td>\n",
       "      <td>0.0</td>\n",
       "    </tr>\n",
       "    <tr>\n",
       "      <th>10</th>\n",
       "      <td>0.0</td>\n",
       "      <td>0.0</td>\n",
       "      <td>0.0</td>\n",
       "      <td>0.0</td>\n",
       "      <td>0.0</td>\n",
       "      <td>0.0</td>\n",
       "      <td>0.0</td>\n",
       "      <td>0.0</td>\n",
       "      <td>0.0</td>\n",
       "      <td>0.0</td>\n",
       "      <td>...</td>\n",
       "      <td>0.0</td>\n",
       "      <td>0.0</td>\n",
       "      <td>0.0</td>\n",
       "      <td>0.0</td>\n",
       "      <td>0.0</td>\n",
       "      <td>0.0</td>\n",
       "      <td>0.0</td>\n",
       "      <td>0.0</td>\n",
       "      <td>0.0</td>\n",
       "      <td>0.0</td>\n",
       "    </tr>\n",
       "    <tr>\n",
       "      <th>21</th>\n",
       "      <td>0.0</td>\n",
       "      <td>0.0</td>\n",
       "      <td>0.0</td>\n",
       "      <td>0.0</td>\n",
       "      <td>0.0</td>\n",
       "      <td>0.0</td>\n",
       "      <td>0.0</td>\n",
       "      <td>0.0</td>\n",
       "      <td>0.0</td>\n",
       "      <td>0.0</td>\n",
       "      <td>...</td>\n",
       "      <td>0.0</td>\n",
       "      <td>0.0</td>\n",
       "      <td>0.0</td>\n",
       "      <td>0.0</td>\n",
       "      <td>0.0</td>\n",
       "      <td>0.0</td>\n",
       "      <td>0.0</td>\n",
       "      <td>0.0</td>\n",
       "      <td>0.0</td>\n",
       "      <td>0.0</td>\n",
       "    </tr>\n",
       "  </tbody>\n",
       "</table>\n",
       "<p>5 rows × 13697 columns</p>\n",
       "</div>"
      ],
      "text/plain": [
       "       100th  10th  11th  12th  13th  14th  150th  1590s  15th  1600s  ...  \\\n",
       "Title                                                                  ...   \n",
       "02:22    0.0   0.0   0.0   0.0   0.0   0.0    0.0    0.0   0.0    0.0  ...   \n",
       "85       0.0   0.0   0.0   0.0   0.0   0.0    0.0    0.0   0.0    0.0  ...   \n",
       "9        0.0   0.0   0.0   0.0   0.0   0.0    0.0    0.0   0.0    0.0  ...   \n",
       "10       0.0   0.0   0.0   0.0   0.0   0.0    0.0    0.0   0.0    0.0  ...   \n",
       "21       0.0   0.0   0.0   0.0   0.0   0.0    0.0    0.0   0.0    0.0  ...   \n",
       "\n",
       "       zombi  zone  zoo  zooey  zookeep  zoologist  zoom  zord  zoya  zquez  \n",
       "Title                                                                        \n",
       "02:22    0.0   0.0  0.0    0.0      0.0        0.0   0.0   0.0   0.0    0.0  \n",
       "85       0.0   0.0  0.0    0.0      0.0        0.0   0.0   0.0   0.0    0.0  \n",
       "9        0.0   0.0  0.0    0.0      0.0        0.0   0.0   0.0   0.0    0.0  \n",
       "10       0.0   0.0  0.0    0.0      0.0        0.0   0.0   0.0   0.0    0.0  \n",
       "21       0.0   0.0  0.0    0.0      0.0        0.0   0.0   0.0   0.0    0.0  \n",
       "\n",
       "[5 rows x 13697 columns]"
      ]
     },
     "execution_count": 15,
     "metadata": {},
     "output_type": "execute_result"
    }
   ],
   "source": [
    "tfidf_df.head()"
   ]
  },
  {
   "cell_type": "code",
   "execution_count": 10,
   "metadata": {},
   "outputs": [],
   "source": [
    "import time"
   ]
  },
  {
   "cell_type": "code",
   "execution_count": 13,
   "metadata": {},
   "outputs": [
    {
     "name": "stdout",
     "output_type": "stream",
     "text": [
      "Finished in 28.53 seconds\n"
     ]
    }
   ],
   "source": [
    "start = time.perf_counter()\n",
    "# Create the array of cosine similarity values\n",
    "cosine_similarity_array = cosine_similarity(tfidf_df)\n",
    "\n",
    "# Wrap the array in a pandas DataFrame\n",
    "cosine_similarity_df = pd.DataFrame(cosine_similarity_array, index=tfidf_df.index, columns=tfidf_df.index)\n",
    "\n",
    "finish = time.perf_counter()\n",
    "print(f'Finished in {round(finish-start,2)} seconds')"
   ]
  },
  {
   "cell_type": "code",
   "execution_count": 16,
   "metadata": {},
   "outputs": [
    {
     "data": {
      "text/html": [
       "<div>\n",
       "<style scoped>\n",
       "    .dataframe tbody tr th:only-of-type {\n",
       "        vertical-align: middle;\n",
       "    }\n",
       "\n",
       "    .dataframe tbody tr th {\n",
       "        vertical-align: top;\n",
       "    }\n",
       "\n",
       "    .dataframe thead th {\n",
       "        text-align: right;\n",
       "    }\n",
       "</style>\n",
       "<table border=\"1\" class=\"dataframe\">\n",
       "  <thead>\n",
       "    <tr style=\"text-align: right;\">\n",
       "      <th>Title</th>\n",
       "      <th>02:22</th>\n",
       "      <th>85</th>\n",
       "      <th>9</th>\n",
       "      <th>10</th>\n",
       "      <th>21</th>\n",
       "      <th>31</th>\n",
       "      <th>42</th>\n",
       "      <th>54</th>\n",
       "      <th>99</th>\n",
       "      <th>122</th>\n",
       "      <th>...</th>\n",
       "      <th>Zoombies</th>\n",
       "      <th>Zoot Suit</th>\n",
       "      <th>Zootopia</th>\n",
       "      <th>Zozo</th>\n",
       "      <th>Zulu</th>\n",
       "      <th>Zulu Man In Japan</th>\n",
       "      <th>The Shawshank Redemption</th>\n",
       "      <th>The Chronicles of Narnia: Prince Caspian</th>\n",
       "      <th>The Chronicles of Narnia: The Lion, the Witch and the Wardrobe</th>\n",
       "      <th>The Chronicles of Narnia: The Voyage of the Dawn Treader</th>\n",
       "    </tr>\n",
       "    <tr>\n",
       "      <th>Title</th>\n",
       "      <th></th>\n",
       "      <th></th>\n",
       "      <th></th>\n",
       "      <th></th>\n",
       "      <th></th>\n",
       "      <th></th>\n",
       "      <th></th>\n",
       "      <th></th>\n",
       "      <th></th>\n",
       "      <th></th>\n",
       "      <th></th>\n",
       "      <th></th>\n",
       "      <th></th>\n",
       "      <th></th>\n",
       "      <th></th>\n",
       "      <th></th>\n",
       "      <th></th>\n",
       "      <th></th>\n",
       "      <th></th>\n",
       "      <th></th>\n",
       "      <th></th>\n",
       "    </tr>\n",
       "  </thead>\n",
       "  <tbody>\n",
       "    <tr>\n",
       "      <th>02:22</th>\n",
       "      <td>1.000000</td>\n",
       "      <td>0.033892</td>\n",
       "      <td>0.041957</td>\n",
       "      <td>0.000000</td>\n",
       "      <td>0.014745</td>\n",
       "      <td>0.010531</td>\n",
       "      <td>0.003392</td>\n",
       "      <td>0.011060</td>\n",
       "      <td>0.004251</td>\n",
       "      <td>0.047789</td>\n",
       "      <td>...</td>\n",
       "      <td>0.048353</td>\n",
       "      <td>0.023003</td>\n",
       "      <td>0.030351</td>\n",
       "      <td>0.050327</td>\n",
       "      <td>0.004362</td>\n",
       "      <td>0.0</td>\n",
       "      <td>0.013648</td>\n",
       "      <td>0.007942</td>\n",
       "      <td>0.000000</td>\n",
       "      <td>0.000000</td>\n",
       "    </tr>\n",
       "    <tr>\n",
       "      <th>85</th>\n",
       "      <td>0.033892</td>\n",
       "      <td>1.000000</td>\n",
       "      <td>0.014145</td>\n",
       "      <td>0.012548</td>\n",
       "      <td>0.002910</td>\n",
       "      <td>0.000000</td>\n",
       "      <td>0.018701</td>\n",
       "      <td>0.041957</td>\n",
       "      <td>0.002588</td>\n",
       "      <td>0.017491</td>\n",
       "      <td>...</td>\n",
       "      <td>0.008997</td>\n",
       "      <td>0.017032</td>\n",
       "      <td>0.007981</td>\n",
       "      <td>0.046100</td>\n",
       "      <td>0.010583</td>\n",
       "      <td>0.0</td>\n",
       "      <td>0.019578</td>\n",
       "      <td>0.028278</td>\n",
       "      <td>0.013101</td>\n",
       "      <td>0.019855</td>\n",
       "    </tr>\n",
       "    <tr>\n",
       "      <th>9</th>\n",
       "      <td>0.041957</td>\n",
       "      <td>0.014145</td>\n",
       "      <td>1.000000</td>\n",
       "      <td>0.000000</td>\n",
       "      <td>0.000000</td>\n",
       "      <td>0.022776</td>\n",
       "      <td>0.011543</td>\n",
       "      <td>0.018445</td>\n",
       "      <td>0.000000</td>\n",
       "      <td>0.000000</td>\n",
       "      <td>...</td>\n",
       "      <td>0.063413</td>\n",
       "      <td>0.017818</td>\n",
       "      <td>0.079933</td>\n",
       "      <td>0.000000</td>\n",
       "      <td>0.000000</td>\n",
       "      <td>0.0</td>\n",
       "      <td>0.018854</td>\n",
       "      <td>0.018110</td>\n",
       "      <td>0.023135</td>\n",
       "      <td>0.030482</td>\n",
       "    </tr>\n",
       "    <tr>\n",
       "      <th>10</th>\n",
       "      <td>0.000000</td>\n",
       "      <td>0.012548</td>\n",
       "      <td>0.000000</td>\n",
       "      <td>1.000000</td>\n",
       "      <td>0.017473</td>\n",
       "      <td>0.000000</td>\n",
       "      <td>0.023065</td>\n",
       "      <td>0.000000</td>\n",
       "      <td>0.007941</td>\n",
       "      <td>0.000000</td>\n",
       "      <td>...</td>\n",
       "      <td>0.009753</td>\n",
       "      <td>0.000000</td>\n",
       "      <td>0.008651</td>\n",
       "      <td>0.000000</td>\n",
       "      <td>0.000000</td>\n",
       "      <td>0.0</td>\n",
       "      <td>0.000000</td>\n",
       "      <td>0.000000</td>\n",
       "      <td>0.000000</td>\n",
       "      <td>0.000000</td>\n",
       "    </tr>\n",
       "    <tr>\n",
       "      <th>21</th>\n",
       "      <td>0.014745</td>\n",
       "      <td>0.002910</td>\n",
       "      <td>0.000000</td>\n",
       "      <td>0.017473</td>\n",
       "      <td>1.000000</td>\n",
       "      <td>0.008302</td>\n",
       "      <td>0.002674</td>\n",
       "      <td>0.002448</td>\n",
       "      <td>0.012788</td>\n",
       "      <td>0.054519</td>\n",
       "      <td>...</td>\n",
       "      <td>0.008582</td>\n",
       "      <td>0.002260</td>\n",
       "      <td>0.010280</td>\n",
       "      <td>0.005994</td>\n",
       "      <td>0.003439</td>\n",
       "      <td>0.0</td>\n",
       "      <td>0.011523</td>\n",
       "      <td>0.000000</td>\n",
       "      <td>0.000000</td>\n",
       "      <td>0.000000</td>\n",
       "    </tr>\n",
       "  </tbody>\n",
       "</table>\n",
       "<p>5 rows × 15250 columns</p>\n",
       "</div>"
      ],
      "text/plain": [
       "Title     02:22        85         9        10        21        31        42  \\\n",
       "Title                                                                         \n",
       "02:22  1.000000  0.033892  0.041957  0.000000  0.014745  0.010531  0.003392   \n",
       "85     0.033892  1.000000  0.014145  0.012548  0.002910  0.000000  0.018701   \n",
       "9      0.041957  0.014145  1.000000  0.000000  0.000000  0.022776  0.011543   \n",
       "10     0.000000  0.012548  0.000000  1.000000  0.017473  0.000000  0.023065   \n",
       "21     0.014745  0.002910  0.000000  0.017473  1.000000  0.008302  0.002674   \n",
       "\n",
       "Title        54        99       122  ...  Zoombies  Zoot Suit  Zootopia  \\\n",
       "Title                                ...                                  \n",
       "02:22  0.011060  0.004251  0.047789  ...  0.048353   0.023003  0.030351   \n",
       "85     0.041957  0.002588  0.017491  ...  0.008997   0.017032  0.007981   \n",
       "9      0.018445  0.000000  0.000000  ...  0.063413   0.017818  0.079933   \n",
       "10     0.000000  0.007941  0.000000  ...  0.009753   0.000000  0.008651   \n",
       "21     0.002448  0.012788  0.054519  ...  0.008582   0.002260  0.010280   \n",
       "\n",
       "Title      Zozo      Zulu  Zulu Man In Japan  The Shawshank Redemption  \\\n",
       "Title                                                                    \n",
       "02:22  0.050327  0.004362                0.0                  0.013648   \n",
       "85     0.046100  0.010583                0.0                  0.019578   \n",
       "9      0.000000  0.000000                0.0                  0.018854   \n",
       "10     0.000000  0.000000                0.0                  0.000000   \n",
       "21     0.005994  0.003439                0.0                  0.011523   \n",
       "\n",
       "Title  The Chronicles of Narnia: Prince Caspian  \\\n",
       "Title                                             \n",
       "02:22                                  0.007942   \n",
       "85                                     0.028278   \n",
       "9                                      0.018110   \n",
       "10                                     0.000000   \n",
       "21                                     0.000000   \n",
       "\n",
       "Title  The Chronicles of Narnia: The Lion, the Witch and the Wardrobe  \\\n",
       "Title                                                                   \n",
       "02:22                                           0.000000                \n",
       "85                                              0.013101                \n",
       "9                                               0.023135                \n",
       "10                                              0.000000                \n",
       "21                                              0.000000                \n",
       "\n",
       "Title  The Chronicles of Narnia: The Voyage of the Dawn Treader  \n",
       "Title                                                            \n",
       "02:22                                           0.000000         \n",
       "85                                              0.019855         \n",
       "9                                               0.030482         \n",
       "10                                              0.000000         \n",
       "21                                              0.000000         \n",
       "\n",
       "[5 rows x 15250 columns]"
      ]
     },
     "execution_count": 16,
     "metadata": {},
     "output_type": "execute_result"
    }
   ],
   "source": [
    "# Print the top 5 rows of the DataFrame\n",
    "cosine_similarity_df.head()"
   ]
  },
  {
   "cell_type": "code",
   "execution_count": 8,
   "metadata": {},
   "outputs": [
    {
     "data": {
      "text/plain": [
       "(15250, 15250)"
      ]
     },
     "execution_count": 8,
     "metadata": {},
     "output_type": "execute_result"
    }
   ],
   "source": [
    "cosine_similarity_df.shape"
   ]
  },
  {
   "cell_type": "code",
   "execution_count": 17,
   "metadata": {},
   "outputs": [],
   "source": [
    "#cosine_similarity_df.to_csv('data/cosine_similarity.csv', index=False)"
   ]
  },
  {
   "cell_type": "code",
   "execution_count": 18,
   "metadata": {},
   "outputs": [
    {
     "data": {
      "text/plain": [
       "Title\n",
       "Thor                                           1.000000\n",
       "Thor The Dark World                            0.318715\n",
       "While You Were Fighting A Thor Mockumentary    0.280026\n",
       "Hulk Vs                                        0.260048\n",
       "Warcraft                                       0.188721\n",
       "                                                 ...   \n",
       "Bitter Lake                                    0.000000\n",
       "Read It And Weep                               0.000000\n",
       "Reach For Me                                   0.000000\n",
       "Ray Harryhausen Special Effects Titan          0.000000\n",
       "Norma Rae                                      0.000000\n",
       "Name: Thor, Length: 15250, dtype: float64"
      ]
     },
     "execution_count": 18,
     "metadata": {},
     "output_type": "execute_result"
    }
   ],
   "source": [
    "# Find the values for the movie rio\n",
    "cosine_similarity_series = cosine_similarity_df.loc['Thor']\n",
    "\n",
    "# Sort these values highest to lowest\n",
    "ordered_similarities = cosine_similarity_series.sort_values(ascending=False)\n",
    "\n",
    "# Print the results\n",
    "ordered_similarities"
   ]
  },
  {
   "cell_type": "code",
   "execution_count": 22,
   "metadata": {},
   "outputs": [],
   "source": [
    "def cosine_similarities(df, text_col):\n",
    "    #ransform the feature column\n",
    "    vectorized_data = vectorizer.fit_transform(df[text_col])\n",
    "    \n",
    "    tfidf_df = pd.DataFrame(vectorized_data.toarray(), columns=vectorizer.get_feature_names())\n",
    "\n",
    "    # Assign the movie titles to the index and inspect\n",
    "    tfidf_df.index = df['Title']\n",
    "    \n",
    "    # Create the array of cosine similarity values\n",
    "    cosine_similarity_array = cosine_similarity(tfidf_df)\n",
    "\n",
    "    # Wrap the array in a pandas DataFrame\n",
    "    cosine_similarity_df = pd.DataFrame(cosine_similarity_array, index=tfidf_df.index, columns=tfidf_df.index)\n",
    "    \n",
    "    return cosine_similarity_df"
   ]
  },
  {
   "cell_type": "code",
   "execution_count": 21,
   "metadata": {},
   "outputs": [],
   "source": [
    "def get_recommendation(cosine_similarity_df, title):\n",
    "    # Find the values for the movie rio\n",
    "    cosine_similarity_series = cosine_similarity_df.loc[title]\n",
    "    \n",
    "    # Sort these values highest to lowest and select the first \n",
    "    ordered_similarities = cosine_similarity_series.sort_values(ascending=False)\n",
    "    recommendations = list(ordered_similarities[1:6].index)\n",
    "    \n",
    "    return recommendations"
   ]
  },
  {
   "cell_type": "code",
   "execution_count": 19,
   "metadata": {},
   "outputs": [
    {
     "data": {
      "text/plain": [
       "Title\n",
       "Rio                1.000000\n",
       "Rio 2              0.495945\n",
       "Shining Through    0.185474\n",
       "Delovely           0.180990\n",
       "Lost In America    0.168870\n",
       "                     ...   \n",
       "The Quiet Earth    0.000000\n",
       "Dealt              0.000000\n",
       "Psycho Goreman     0.000000\n",
       "Psycho             0.000000\n",
       "Doubting Thomas    0.000000\n",
       "Name: Rio, Length: 15250, dtype: float64"
      ]
     },
     "execution_count": 19,
     "metadata": {},
     "output_type": "execute_result"
    }
   ],
   "source": [
    "# Find the values for the movie rio\n",
    "cosine_similarity_series = cosine_similarity_df.loc['Rio']\n",
    "\n",
    "# Sort these values highest to lowest\n",
    "ordered_similarities = cosine_similarity_series.sort_values(ascending=False)\n",
    "recommendations = list(ordered_similarities[1:6].index)\n",
    "\n",
    "# Print the results\n",
    "ordered_similarities"
   ]
  },
  {
   "cell_type": "code",
   "execution_count": 20,
   "metadata": {},
   "outputs": [
    {
     "data": {
      "text/plain": [
       "Title\n",
       "The Chronicles of Narnia: Prince Caspian                          1.000000\n",
       "The Chronicles of Narnia: The Lion, the Witch and the Wardrobe    0.449735\n",
       "The Chronicles of Narnia: The Voyage of the Dawn Treader          0.266639\n",
       "Epic Movie                                                        0.163673\n",
       "The Triumph Of Love                                               0.143035\n",
       "                                                                    ...   \n",
       "Harith Iskander I Told You So                                     0.000000\n",
       "Harlem Nights                                                     0.000000\n",
       "Harms Way                                                         0.000000\n",
       "Sundown The Vampire In Retreat                                    0.000000\n",
       "A New York Christmas Wedding                                      0.000000\n",
       "Name: The Chronicles of Narnia: Prince Caspian, Length: 15250, dtype: float64"
      ]
     },
     "execution_count": 20,
     "metadata": {},
     "output_type": "execute_result"
    }
   ],
   "source": [
    "# Find the values for the movie rio\n",
    "cosine_similarity_series = cosine_similarity_df.loc['The Chronicles of Narnia: Prince Caspian']\n",
    "\n",
    "# Sort these values highest to lowest\n",
    "ordered_similarities = cosine_similarity_series.sort_values(ascending=False)\n",
    "\n",
    "# Print the results\n",
    "ordered_similarities"
   ]
  },
  {
   "cell_type": "code",
   "execution_count": 21,
   "metadata": {},
   "outputs": [
    {
     "data": {
      "text/plain": [
       "Index(['02:22', '85', '9', '10', '21', '31', '42', '54', '99', '122',\n",
       "       ...\n",
       "       'Zoombies', 'Zoot Suit', 'Zootopia', 'Zozo', 'Zulu',\n",
       "       'Zulu Man In Japan', 'The Shawshank Redemption',\n",
       "       'The Chronicles of Narnia: Prince Caspian',\n",
       "       'The Chronicles of Narnia: The Lion, the Witch and the Wardrobe',\n",
       "       'The Chronicles of Narnia: The Voyage of the Dawn Treader'],\n",
       "      dtype='object', name='Title', length=15250)"
      ]
     },
     "execution_count": 21,
     "metadata": {},
     "output_type": "execute_result"
    }
   ],
   "source": [
    "cosine_similarity_df.columns"
   ]
  },
  {
   "cell_type": "markdown",
   "metadata": {},
   "source": [
    "- cosine similarity is higher with the processed plots, the answers are ot necessarily different, the similarity numbers are just higher"
   ]
  },
  {
   "cell_type": "markdown",
   "metadata": {},
   "source": [
    "# Without threading \n",
    "- 31.49 seconds - jupyter notebook\n",
    "- 37.01 seconds - on browser"
   ]
  },
  {
   "cell_type": "code",
   "execution_count": 43,
   "metadata": {},
   "outputs": [
    {
     "name": "stdout",
     "output_type": "stream",
     "text": [
      "Finished in 0.03 seconds\n"
     ]
    }
   ],
   "source": [
    "start = time.perf_counter()\n",
    "x = get_recommendation(cosine_similarity_df, 'Thor')\n",
    "finish = time.perf_counter()\n",
    "print(f'Finished in {round(finish-start,2)} seconds')"
   ]
  },
  {
   "cell_type": "code",
   "execution_count": 23,
   "metadata": {},
   "outputs": [
    {
     "name": "stdout",
     "output_type": "stream",
     "text": [
      "Finished in 31.49 seconds\n"
     ]
    }
   ],
   "source": [
    "start = time.perf_counter()\n",
    "x = show_recommendations('Thor')\n",
    "finish = time.perf_counter()\n",
    "print(f'Finished in {round(finish-start,2)} seconds')"
   ]
  },
  {
   "cell_type": "code",
   "execution_count": 24,
   "metadata": {},
   "outputs": [
    {
     "data": {
      "text/plain": [
       "['Thor: The Dark World', 'Team Thor', 'Hulk vs. Thor', 'Warcraft', 'Blackmark']"
      ]
     },
     "execution_count": 24,
     "metadata": {},
     "output_type": "execute_result"
    }
   ],
   "source": [
    "x"
   ]
  },
  {
   "cell_type": "markdown",
   "metadata": {},
   "source": [
    "# Threading"
   ]
  },
  {
   "cell_type": "code",
   "execution_count": 26,
   "metadata": {},
   "outputs": [
    {
     "data": {
      "text/plain": [
       "(15250, 5)"
      ]
     },
     "execution_count": 26,
     "metadata": {},
     "output_type": "execute_result"
    }
   ],
   "source": [
    "df.shape"
   ]
  },
  {
   "cell_type": "code",
   "execution_count": 27,
   "metadata": {},
   "outputs": [
    {
     "data": {
      "text/plain": [
       "3050.0"
      ]
     },
     "execution_count": 27,
     "metadata": {},
     "output_type": "execute_result"
    }
   ],
   "source": [
    "15250/5"
   ]
  },
  {
   "cell_type": "code",
   "execution_count": 9,
   "metadata": {},
   "outputs": [
    {
     "data": {
      "text/plain": [
       "15250"
      ]
     },
     "execution_count": 9,
     "metadata": {},
     "output_type": "execute_result"
    }
   ],
   "source": [
    "3050 * 5"
   ]
  },
  {
   "cell_type": "code",
   "execution_count": 41,
   "metadata": {},
   "outputs": [
    {
     "data": {
      "text/plain": [
       "3050"
      ]
     },
     "execution_count": 41,
     "metadata": {},
     "output_type": "execute_result"
    }
   ],
   "source": [
    "len(df[12200:15250])"
   ]
  },
  {
   "cell_type": "code",
   "execution_count": null,
   "metadata": {},
   "outputs": [],
   "source": []
  },
  {
   "cell_type": "code",
   "execution_count": null,
   "metadata": {},
   "outputs": [],
   "source": []
  },
  {
   "cell_type": "code",
   "execution_count": 4,
   "metadata": {},
   "outputs": [],
   "source": [
    "def cosine_similarities_thread(df, text_col):\n",
    "    #transform the feature column\n",
    "    vectorizer = TfidfVectorizer(max_df=2, min_df=1)\n",
    "    vectorized_data = vectorizer.fit_transform(df[text_col])\n",
    "    \n",
    "    tfidf_df = pd.DataFrame(vectorized_data.toarray(), columns=vectorizer.get_feature_names())\n",
    "    tfidf_df.index = df['Title']\n",
    "    \n",
    "    # Create the array of cosine similarity values\n",
    "    cosine_similarity_array = cosine_similarity(tfidf_df)\n",
    "\n",
    "    # Wrap the array in a pandas DataFrame\n",
    "    cosine_similarity_df = pd.DataFrame(cosine_similarity_array, index=tfidf_df.index, columns=tfidf_df.index)\n",
    "    \n",
    "    return cosine_similarity_df"
   ]
  },
  {
   "cell_type": "code",
   "execution_count": 16,
   "metadata": {},
   "outputs": [],
   "source": [
    "def cosine_similarities_thread1(data, text_col, start, end):\n",
    "    df = data[start:end]\n",
    "    #transform the feature column\n",
    "    vectorizer = TfidfVectorizer(max_df=2, min_df=1)\n",
    "    vectorized_data = vectorizer.fit_transform(df[text_col])\n",
    "\n",
    "    tfidf_df = pd.DataFrame(vectorized_data.toarray(), columns=vectorizer.get_feature_names())\n",
    "    \n",
    "    tfidf_df.index = df['Title']\n",
    "    \n",
    "    # Create the array of cosine similarity values\n",
    "    cosine_similarity_array = cosine_similarity(tfidf_df)\n",
    "\n",
    "    # Wrap the array in a pandas DataFrame\n",
    "    cosine_similarity_df = pd.DataFrame(cosine_similarity_array, index=tfidf_df.index, columns=tfidf_df.index)\n",
    "    \n",
    "    return cosine_similarity_df"
   ]
  },
  {
   "cell_type": "code",
   "execution_count": 6,
   "metadata": {},
   "outputs": [
    {
     "name": "stdout",
     "output_type": "stream",
     "text": [
      "--- 32.29134798049927 seconds ---\n"
     ]
    }
   ],
   "source": [
    "start = time.time()\n",
    "x = cosine_similarities_thread(df, 'Processed_feature')\n",
    "print(\"--- %s seconds ---\" % (time.time() - start))"
   ]
  },
  {
   "cell_type": "code",
   "execution_count": 7,
   "metadata": {},
   "outputs": [],
   "source": [
    "import threading\n",
    "import time"
   ]
  },
  {
   "cell_type": "code",
   "execution_count": 11,
   "metadata": {},
   "outputs": [],
   "source": [
    "import concurrent.futures"
   ]
  },
  {
   "cell_type": "code",
   "execution_count": 42,
   "metadata": {},
   "outputs": [
    {
     "data": {
      "text/plain": [
       "(15250, 5)"
      ]
     },
     "execution_count": 42,
     "metadata": {},
     "output_type": "execute_result"
    }
   ],
   "source": [
    "df.shape"
   ]
  },
  {
   "cell_type": "code",
   "execution_count": 53,
   "metadata": {},
   "outputs": [
    {
     "data": {
      "text/plain": [
       "15250"
      ]
     },
     "execution_count": 53,
     "metadata": {},
     "output_type": "execute_result"
    }
   ],
   "source": [
    "len(df)"
   ]
  },
  {
   "cell_type": "code",
   "execution_count": 20,
   "metadata": {},
   "outputs": [
    {
     "data": {
      "text/plain": [
       "3812.5"
      ]
     },
     "execution_count": 20,
     "metadata": {},
     "output_type": "execute_result"
    }
   ],
   "source": [
    "15250/4"
   ]
  },
  {
   "cell_type": "code",
   "execution_count": 23,
   "metadata": {},
   "outputs": [
    {
     "data": {
      "text/plain": [
       "15248"
      ]
     },
     "execution_count": 23,
     "metadata": {},
     "output_type": "execute_result"
    }
   ],
   "source": [
    "3812 * 4"
   ]
  },
  {
   "cell_type": "code",
   "execution_count": 52,
   "metadata": {},
   "outputs": [
    {
     "data": {
      "text/plain": [
       "15250"
      ]
     },
     "execution_count": 52,
     "metadata": {},
     "output_type": "execute_result"
    }
   ],
   "source": [
    "len(d1) + len(d2)+ len(d3) + len(d4) + len(d5) #+ len(d6) + len(d7)"
   ]
  },
  {
   "cell_type": "markdown",
   "metadata": {},
   "source": [
    "### spliting the data during threading"
   ]
  },
  {
   "cell_type": "code",
   "execution_count": 24,
   "metadata": {},
   "outputs": [
    {
     "name": "stdout",
     "output_type": "stream",
     "text": [
      "--- 17.773313999176025 seconds ---\n"
     ]
    }
   ],
   "source": [
    "start = time.time()\n",
    "\n",
    "with concurrent.futures.ThreadPoolExecutor() as executor:\n",
    "    t1 = executor.submit(cosine_similarities_thread1, df, 'Processed_feature', 0, 3812)\n",
    "    t2 = executor.submit(cosine_similarities_thread1, df, 'Processed_feature', 3812, 7624)\n",
    "    t3 = executor.submit(cosine_similarities_thread1, df, 'Processed_feature', 7624, 11436)\n",
    "    t4 = executor.submit(cosine_similarities_thread1, df, 'Processed_feature', 11436, 15250)\n",
    "    \n",
    "    results = t1.result() +  t2.result() +  t3.result() + t4.result() \n",
    "    \n",
    "print(\"--- %s seconds ---\" % (time.time() - start))"
   ]
  },
  {
   "cell_type": "code",
   "execution_count": 18,
   "metadata": {},
   "outputs": [
    {
     "name": "stdout",
     "output_type": "stream",
     "text": [
      "--- 17.48763084411621 seconds ---\n"
     ]
    }
   ],
   "source": [
    "start = time.time()\n",
    "\n",
    "with concurrent.futures.ThreadPoolExecutor() as executor:\n",
    "    t1 = executor.submit(cosine_similarities_thread1, df, 'Processed_feature', 0, 3050)\n",
    "    t2 = executor.submit(cosine_similarities_thread1, df, 'Processed_feature', 3050, 6100)\n",
    "    t3 = executor.submit(cosine_similarities_thread1, df, 'Processed_feature', 6100, 9150)\n",
    "    t4 = executor.submit(cosine_similarities_thread1, df, 'Processed_feature', 9150, 12200)\n",
    "    t5 = executor.submit(cosine_similarities_thread1, df, 'Processed_feature', 12200, 15250)\n",
    "    \n",
    "    results = t1.result() +  t2.result() +  t3.result() + t4.result() +  t5.result() \n",
    "    \n",
    "print(\"--- %s seconds ---\" % (time.time() - start))"
   ]
  },
  {
   "cell_type": "code",
   "execution_count": 19,
   "metadata": {},
   "outputs": [
    {
     "name": "stdout",
     "output_type": "stream",
     "text": [
      "--- 22.083627939224243 seconds ---\n"
     ]
    }
   ],
   "source": [
    "start = time.time()\n",
    "\n",
    "with concurrent.futures.ThreadPoolExecutor() as executor:\n",
    "    t1 = executor.submit(cosine_similarities_thread1, df, 'Processed_feature', 0, 2178)\n",
    "    t2 = executor.submit(cosine_similarities_thread1, df, 'Processed_feature', 2178, 4356)\n",
    "    t3 = executor.submit(cosine_similarities_thread1, df, 'Processed_feature', 4356, 6534)\n",
    "    t4 = executor.submit(cosine_similarities_thread1, df, 'Processed_feature', 6534, 8712)\n",
    "    t5 = executor.submit(cosine_similarities_thread1, df, 'Processed_feature', 8712, 10890)\n",
    "    t6 = executor.submit(cosine_similarities_thread1, df, 'Processed_feature', 10890, 13068)\n",
    "    t7 = executor.submit(cosine_similarities_thread1, df, 'Processed_feature', 13068, 15250)\n",
    "    \n",
    "    results = t1.result() +  t2.result() +  t3.result() + t4.result() +  t5.result() +  t6.result() +  t7.result() \n",
    "    \n",
    "print(\"--- %s seconds ---\" % (time.time() - start))"
   ]
  },
  {
   "cell_type": "markdown",
   "metadata": {},
   "source": [
    "### spliting the data before threading"
   ]
  },
  {
   "cell_type": "code",
   "execution_count": null,
   "metadata": {},
   "outputs": [],
   "source": [
    "d1 = df[0:3050]\n",
    "d2 = df[3050:6100]\n",
    "d3 = df[6100:9150]\n",
    "d4 = df[9150:12200]\n",
    "d5 = df[12200:16250]"
   ]
  },
  {
   "cell_type": "code",
   "execution_count": 13,
   "metadata": {},
   "outputs": [
    {
     "name": "stdout",
     "output_type": "stream",
     "text": [
      "--- 17.922550201416016 seconds ---\n"
     ]
    }
   ],
   "source": [
    "start = time.time()\n",
    "\n",
    "with concurrent.futures.ThreadPoolExecutor() as executor:\n",
    "    t1 = executor.submit(cosine_similarities_thread, d1, 'Processed_feature')\n",
    "    t2 = executor.submit(cosine_similarities_thread, d2, 'Processed_feature')\n",
    "    t3 = executor.submit(cosine_similarities_thread, d3, 'Processed_feature')\n",
    "    t4 = executor.submit(cosine_similarities_thread, d4, 'Processed_feature')\n",
    "    t5 = executor.submit(cosine_similarities_thread, d5, 'Processed_feature')\n",
    "    \n",
    "    results = t1.result() +  t2.result() +  t3.result() + t4.result() +  t5.result() \n",
    "    \n",
    "print(\"--- %s seconds ---\" % (time.time() - start))"
   ]
  },
  {
   "cell_type": "code",
   "execution_count": 14,
   "metadata": {},
   "outputs": [],
   "source": [
    "d1 = df[0:2178]\n",
    "d2 = df[2178:4356]\n",
    "d3 = df[4356:6534]\n",
    "d4 = df[6534:8712]\n",
    "d5 = df[8712:10890]\n",
    "d6 = df[10890:13068]\n",
    "d7 = df[13068:15250]"
   ]
  },
  {
   "cell_type": "code",
   "execution_count": 15,
   "metadata": {},
   "outputs": [
    {
     "name": "stdout",
     "output_type": "stream",
     "text": [
      "--- 22.21785306930542 seconds ---\n"
     ]
    }
   ],
   "source": [
    "start = time.time()\n",
    "\n",
    "with concurrent.futures.ThreadPoolExecutor() as executor:\n",
    "    t1 = executor.submit(cosine_similarities_thread, d1, 'Processed_feature')\n",
    "    t2 = executor.submit(cosine_similarities_thread, d2, 'Processed_feature')\n",
    "    t3 = executor.submit(cosine_similarities_thread, d3, 'Processed_feature')\n",
    "    t4 = executor.submit(cosine_similarities_thread, d4, 'Processed_feature')\n",
    "    t5 = executor.submit(cosine_similarities_thread, d5, 'Processed_feature')\n",
    "    t6 = executor.submit(cosine_similarities_thread, d6, 'Processed_feature')\n",
    "    t7 = executor.submit(cosine_similarities_thread, d7, 'Processed_feature')\n",
    "    \n",
    "    results = t1.result() +  t2.result() +  t3.result() + t4.result() +  t5.result() +  t6.result() +  t7.result() \n",
    "    \n",
    "print(\"--- %s seconds ---\" % (time.time() - start))"
   ]
  },
  {
   "cell_type": "code",
   "execution_count": 40,
   "metadata": {},
   "outputs": [
    {
     "data": {
      "text/html": [
       "<div>\n",
       "<style scoped>\n",
       "    .dataframe tbody tr th:only-of-type {\n",
       "        vertical-align: middle;\n",
       "    }\n",
       "\n",
       "    .dataframe tbody tr th {\n",
       "        vertical-align: top;\n",
       "    }\n",
       "\n",
       "    .dataframe thead th {\n",
       "        text-align: right;\n",
       "    }\n",
       "</style>\n",
       "<table border=\"1\" class=\"dataframe\">\n",
       "  <thead>\n",
       "    <tr style=\"text-align: right;\">\n",
       "      <th>Title</th>\n",
       "      <th>#Friendbutmarried</th>\n",
       "      <th>#Friendbutmarried 2</th>\n",
       "      <th>#Imomsohard Live</th>\n",
       "      <th>#Lucky Number</th>\n",
       "      <th>#Realityhigh</th>\n",
       "      <th>#Rucker50</th>\n",
       "      <th>#cats_the_mewvie</th>\n",
       "      <th>02:22</th>\n",
       "      <th>1 Night In San Diego</th>\n",
       "      <th>10</th>\n",
       "      <th>...</th>\n",
       "      <th>Zookeeper</th>\n",
       "      <th>Zoolander</th>\n",
       "      <th>Zoolander 2</th>\n",
       "      <th>Zoom</th>\n",
       "      <th>Zoombies</th>\n",
       "      <th>Zoot Suit</th>\n",
       "      <th>Zootopia</th>\n",
       "      <th>Zozo</th>\n",
       "      <th>Zulu</th>\n",
       "      <th>Zulu Man In Japan</th>\n",
       "    </tr>\n",
       "    <tr>\n",
       "      <th>Title</th>\n",
       "      <th></th>\n",
       "      <th></th>\n",
       "      <th></th>\n",
       "      <th></th>\n",
       "      <th></th>\n",
       "      <th></th>\n",
       "      <th></th>\n",
       "      <th></th>\n",
       "      <th></th>\n",
       "      <th></th>\n",
       "      <th></th>\n",
       "      <th></th>\n",
       "      <th></th>\n",
       "      <th></th>\n",
       "      <th></th>\n",
       "      <th></th>\n",
       "      <th></th>\n",
       "      <th></th>\n",
       "      <th></th>\n",
       "      <th></th>\n",
       "      <th></th>\n",
       "    </tr>\n",
       "  </thead>\n",
       "  <tbody>\n",
       "    <tr>\n",
       "      <th>#Friendbutmarried</th>\n",
       "      <td>NaN</td>\n",
       "      <td>NaN</td>\n",
       "      <td>NaN</td>\n",
       "      <td>NaN</td>\n",
       "      <td>NaN</td>\n",
       "      <td>NaN</td>\n",
       "      <td>NaN</td>\n",
       "      <td>NaN</td>\n",
       "      <td>NaN</td>\n",
       "      <td>NaN</td>\n",
       "      <td>...</td>\n",
       "      <td>NaN</td>\n",
       "      <td>NaN</td>\n",
       "      <td>NaN</td>\n",
       "      <td>NaN</td>\n",
       "      <td>NaN</td>\n",
       "      <td>NaN</td>\n",
       "      <td>NaN</td>\n",
       "      <td>NaN</td>\n",
       "      <td>NaN</td>\n",
       "      <td>NaN</td>\n",
       "    </tr>\n",
       "    <tr>\n",
       "      <th>#Friendbutmarried 2</th>\n",
       "      <td>NaN</td>\n",
       "      <td>NaN</td>\n",
       "      <td>NaN</td>\n",
       "      <td>NaN</td>\n",
       "      <td>NaN</td>\n",
       "      <td>NaN</td>\n",
       "      <td>NaN</td>\n",
       "      <td>NaN</td>\n",
       "      <td>NaN</td>\n",
       "      <td>NaN</td>\n",
       "      <td>...</td>\n",
       "      <td>NaN</td>\n",
       "      <td>NaN</td>\n",
       "      <td>NaN</td>\n",
       "      <td>NaN</td>\n",
       "      <td>NaN</td>\n",
       "      <td>NaN</td>\n",
       "      <td>NaN</td>\n",
       "      <td>NaN</td>\n",
       "      <td>NaN</td>\n",
       "      <td>NaN</td>\n",
       "    </tr>\n",
       "    <tr>\n",
       "      <th>#Imomsohard Live</th>\n",
       "      <td>NaN</td>\n",
       "      <td>NaN</td>\n",
       "      <td>NaN</td>\n",
       "      <td>NaN</td>\n",
       "      <td>NaN</td>\n",
       "      <td>NaN</td>\n",
       "      <td>NaN</td>\n",
       "      <td>NaN</td>\n",
       "      <td>NaN</td>\n",
       "      <td>NaN</td>\n",
       "      <td>...</td>\n",
       "      <td>NaN</td>\n",
       "      <td>NaN</td>\n",
       "      <td>NaN</td>\n",
       "      <td>NaN</td>\n",
       "      <td>NaN</td>\n",
       "      <td>NaN</td>\n",
       "      <td>NaN</td>\n",
       "      <td>NaN</td>\n",
       "      <td>NaN</td>\n",
       "      <td>NaN</td>\n",
       "    </tr>\n",
       "    <tr>\n",
       "      <th>#Lucky Number</th>\n",
       "      <td>NaN</td>\n",
       "      <td>NaN</td>\n",
       "      <td>NaN</td>\n",
       "      <td>NaN</td>\n",
       "      <td>NaN</td>\n",
       "      <td>NaN</td>\n",
       "      <td>NaN</td>\n",
       "      <td>NaN</td>\n",
       "      <td>NaN</td>\n",
       "      <td>NaN</td>\n",
       "      <td>...</td>\n",
       "      <td>NaN</td>\n",
       "      <td>NaN</td>\n",
       "      <td>NaN</td>\n",
       "      <td>NaN</td>\n",
       "      <td>NaN</td>\n",
       "      <td>NaN</td>\n",
       "      <td>NaN</td>\n",
       "      <td>NaN</td>\n",
       "      <td>NaN</td>\n",
       "      <td>NaN</td>\n",
       "    </tr>\n",
       "    <tr>\n",
       "      <th>#Realityhigh</th>\n",
       "      <td>NaN</td>\n",
       "      <td>NaN</td>\n",
       "      <td>NaN</td>\n",
       "      <td>NaN</td>\n",
       "      <td>NaN</td>\n",
       "      <td>NaN</td>\n",
       "      <td>NaN</td>\n",
       "      <td>NaN</td>\n",
       "      <td>NaN</td>\n",
       "      <td>NaN</td>\n",
       "      <td>...</td>\n",
       "      <td>NaN</td>\n",
       "      <td>NaN</td>\n",
       "      <td>NaN</td>\n",
       "      <td>NaN</td>\n",
       "      <td>NaN</td>\n",
       "      <td>NaN</td>\n",
       "      <td>NaN</td>\n",
       "      <td>NaN</td>\n",
       "      <td>NaN</td>\n",
       "      <td>NaN</td>\n",
       "    </tr>\n",
       "  </tbody>\n",
       "</table>\n",
       "<p>5 rows × 15250 columns</p>\n",
       "</div>"
      ],
      "text/plain": [
       "Title                #Friendbutmarried  #Friendbutmarried 2  #Imomsohard Live  \\\n",
       "Title                                                                           \n",
       "#Friendbutmarried                  NaN                  NaN               NaN   \n",
       "#Friendbutmarried 2                NaN                  NaN               NaN   \n",
       "#Imomsohard Live                   NaN                  NaN               NaN   \n",
       "#Lucky Number                      NaN                  NaN               NaN   \n",
       "#Realityhigh                       NaN                  NaN               NaN   \n",
       "\n",
       "Title                #Lucky Number  #Realityhigh  #Rucker50  #cats_the_mewvie  \\\n",
       "Title                                                                           \n",
       "#Friendbutmarried              NaN           NaN        NaN               NaN   \n",
       "#Friendbutmarried 2            NaN           NaN        NaN               NaN   \n",
       "#Imomsohard Live               NaN           NaN        NaN               NaN   \n",
       "#Lucky Number                  NaN           NaN        NaN               NaN   \n",
       "#Realityhigh                   NaN           NaN        NaN               NaN   \n",
       "\n",
       "Title                02:22  1 Night In San Diego  10  ...  Zookeeper  \\\n",
       "Title                                                 ...              \n",
       "#Friendbutmarried      NaN                   NaN NaN  ...        NaN   \n",
       "#Friendbutmarried 2    NaN                   NaN NaN  ...        NaN   \n",
       "#Imomsohard Live       NaN                   NaN NaN  ...        NaN   \n",
       "#Lucky Number          NaN                   NaN NaN  ...        NaN   \n",
       "#Realityhigh           NaN                   NaN NaN  ...        NaN   \n",
       "\n",
       "Title                Zoolander  Zoolander 2  Zoom  Zoombies  Zoot Suit  \\\n",
       "Title                                                                    \n",
       "#Friendbutmarried          NaN          NaN   NaN       NaN        NaN   \n",
       "#Friendbutmarried 2        NaN          NaN   NaN       NaN        NaN   \n",
       "#Imomsohard Live           NaN          NaN   NaN       NaN        NaN   \n",
       "#Lucky Number              NaN          NaN   NaN       NaN        NaN   \n",
       "#Realityhigh               NaN          NaN   NaN       NaN        NaN   \n",
       "\n",
       "Title                Zootopia  Zozo  Zulu  Zulu Man In Japan  \n",
       "Title                                                         \n",
       "#Friendbutmarried         NaN   NaN   NaN                NaN  \n",
       "#Friendbutmarried 2       NaN   NaN   NaN                NaN  \n",
       "#Imomsohard Live          NaN   NaN   NaN                NaN  \n",
       "#Lucky Number             NaN   NaN   NaN                NaN  \n",
       "#Realityhigh              NaN   NaN   NaN                NaN  \n",
       "\n",
       "[5 rows x 15250 columns]"
      ]
     },
     "execution_count": 40,
     "metadata": {},
     "output_type": "execute_result"
    }
   ],
   "source": [
    "results.head()"
   ]
  },
  {
   "cell_type": "code",
   "execution_count": 41,
   "metadata": {},
   "outputs": [
    {
     "data": {
      "text/plain": [
       "(15250, 15250)"
      ]
     },
     "execution_count": 41,
     "metadata": {},
     "output_type": "execute_result"
    }
   ],
   "source": [
    "results.shape"
   ]
  },
  {
   "cell_type": "code",
   "execution_count": 19,
   "metadata": {},
   "outputs": [],
   "source": [
    "def show_recommendations(movie_title: str):\n",
    "    img_base_url = 'https://image.tmdb.org/t/p/w500'\n",
    "\n",
    "    cosine_similarity_df = functions.cosine_similarities(df, 'Processed_feature')\n",
    "    names = functions.get_recommendations(cosine_similarity_df, movie_title)\n",
    "\n",
    "    fetched_img_files = []\n",
    "    fetched_titles = []\n",
    "    fetched_overview = []\n",
    "    fetched_rating = []\n",
    "    fetched_date = []\n",
    "\n",
    "    #API CALL TO GET INFORMATION ON RECOMMENDED MOVIES\n",
    "    search = tmdb.Search()\n",
    "    for n in names:\n",
    "        response = search.movie(query=n)\n",
    "        response = response['results'][0]\n",
    "        fetched_titles.append(response['title'])\n",
    "\n",
    "    return fetched_titles                     "
   ]
  },
  {
   "cell_type": "code",
   "execution_count": 20,
   "metadata": {},
   "outputs": [],
   "source": [
    "import tmdbsimple as tmdb\n",
    "import os\n",
    "\n",
    "api_key = os.getenv(\"MOVIE_API_KEY\")\n",
    "tmdb.API_KEY = api_key"
   ]
  },
  {
   "cell_type": "code",
   "execution_count": 8,
   "metadata": {},
   "outputs": [
    {
     "data": {
      "text/plain": [
       "['Stand by Me Doraemon',\n",
       " 'The Old Guard',\n",
       " 'Apollo 18',\n",
       " \"Last Year's Snow Was Falling\",\n",
       " 'Meteor Moon']"
      ]
     },
     "execution_count": 8,
     "metadata": {},
     "output_type": "execute_result"
    }
   ],
   "source": [
    "x = show_recommendations('Avatar')\n",
    "x"
   ]
  },
  {
   "cell_type": "code",
   "execution_count": 10,
   "metadata": {},
   "outputs": [
    {
     "data": {
      "text/plain": [
       "{'adult': False,\n",
       " 'backdrop_path': '/1aABIiqBY7yoQESE8qWvR0w9bJZ.jpg',\n",
       " 'genre_ids': [16, 10751, 878, 14],\n",
       " 'id': 265712,\n",
       " 'original_language': 'ja',\n",
       " 'original_title': 'STAND BY ME ドラえもん',\n",
       " 'overview': \"In the suburbs of Tokyo some time ago, there lived a clumsy boy about 10 years old. There appeared in front of him named Sewashi, Nobita's descendant of four generations later from the 22nd century, and Doraemon, a 22nd century cat-type caretaker robot who helps people with its secret gadgets. Sewashi claims that his family is suffering from the debts Nobita made even to his generation, so in order to change this disastrous future, he brought along Doraemon as Nobita's caretaker to bring happiness to his future, although Doraemon is not happy about this. And so Sewashi installed an accomplishment program into Doraemon forcing him to take care of Nobita. Unless he makes Nobita happy, Doraemon can no longer go back to the 22nd century. This is how the life of Doraemon and Nobita begins. Will Doraemon succeed this mission and return to the 22nd century?\",\n",
       " 'popularity': 82.57,\n",
       " 'poster_path': '/jArnRnllnxbvE2CEV8jc2hhwweS.jpg',\n",
       " 'release_date': '2014-08-08',\n",
       " 'title': 'Stand by Me Doraemon',\n",
       " 'video': False,\n",
       " 'vote_average': 7.3,\n",
       " 'vote_count': 308}"
      ]
     },
     "execution_count": 10,
     "metadata": {},
     "output_type": "execute_result"
    }
   ],
   "source": [
    "search = tmdb.Search()\n",
    "response = search.movie(query='Stand by Me Doraemon')\n",
    "response = response['results'][0]\n",
    "response"
   ]
  },
  {
   "cell_type": "code",
   "execution_count": 11,
   "metadata": {},
   "outputs": [],
   "source": [
    "genre_id = [16, 10751, 878, 14]"
   ]
  },
  {
   "cell_type": "code",
   "execution_count": 12,
   "metadata": {},
   "outputs": [],
   "source": [
    "genre_key = {28:'Action', 12:'Adventure', 16:'Animation', 35:'Comedy', 80:'Crime',\n",
    "             99:'Documentary', 18:'Drama', 10751:'Family', 14:'Fantasy', 36:'History', \n",
    "             27:'Horror', 10402:'Music', 9648:'Mystery', 10749:'Romance', 878 :'Science Fiction', \n",
    "             10770:'TV Movie', 53:'Thriller', 10752:'War',  37:'Western'}"
   ]
  },
  {
   "cell_type": "code",
   "execution_count": 17,
   "metadata": {},
   "outputs": [],
   "source": [
    "genres = []\n",
    "g = '' \n",
    "for k in genre_id:\n",
    "    if k in genre_key:\n",
    "        g += genre_key[k] +', '"
   ]
  },
  {
   "cell_type": "code",
   "execution_count": 18,
   "metadata": {},
   "outputs": [
    {
     "data": {
      "text/plain": [
       "'Animation, Family, Science Fiction, Fantasy, '"
      ]
     },
     "execution_count": 18,
     "metadata": {},
     "output_type": "execute_result"
    }
   ],
   "source": [
    "genre"
   ]
  },
  {
   "cell_type": "code",
   "execution_count": 24,
   "metadata": {},
   "outputs": [],
   "source": [
    "popular_title = []\n",
    "popular_rating = []\n",
    "popular_poster = []\n",
    "popular_date = []\n",
    "genres = []\n",
    "\n",
    "\n",
    "search = tmdb.Search()\n",
    "for n in x:\n",
    "    g = ''\n",
    "    response = search.movie(query=n)\n",
    "    response = response['results'][0]\n",
    "    popular_rating.append(response['vote_average'])\n",
    "    popular_date.append(response['release_date'].split('-')[0])\n",
    "    genre_ids = response['genre_ids']\n",
    "    for k in genre_ids:\n",
    "        if k in genre_key:\n",
    "            g += genre_key[k] +', '\n",
    "    genres.append(g)"
   ]
  },
  {
   "cell_type": "code",
   "execution_count": 25,
   "metadata": {},
   "outputs": [
    {
     "data": {
      "text/plain": [
       "['Animation, Family, Science Fiction, Fantasy, ',\n",
       " 'Action, Fantasy, ',\n",
       " 'Horror, Thriller, Science Fiction, ',\n",
       " 'Animation, Comedy, Family, Fantasy, ',\n",
       " 'Adventure, Science Fiction, ']"
      ]
     },
     "execution_count": 25,
     "metadata": {},
     "output_type": "execute_result"
    }
   ],
   "source": [
    "genres"
   ]
  },
  {
   "cell_type": "code",
   "execution_count": null,
   "metadata": {},
   "outputs": [],
   "source": []
  }
 ],
 "metadata": {
  "kernelspec": {
   "display_name": "Python 3",
   "language": "python",
   "name": "python3"
  },
  "language_info": {
   "codemirror_mode": {
    "name": "ipython",
    "version": 3
   },
   "file_extension": ".py",
   "mimetype": "text/x-python",
   "name": "python",
   "nbconvert_exporter": "python",
   "pygments_lexer": "ipython3",
   "version": "3.8.8"
  }
 },
 "nbformat": 4,
 "nbformat_minor": 4
}
